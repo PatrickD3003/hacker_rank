{
 "cells": [
  {
   "cell_type": "code",
   "execution_count": 3,
   "metadata": {},
   "outputs": [
    {
     "name": "stdout",
     "output_type": "stream",
     "text": [
      "6\n",
      "5\n"
     ]
    }
   ],
   "source": [
    "text = \"BANANA\"\n",
    "print(len(text))\n",
    "print(len(text[1:]))"
   ]
  },
  {
   "cell_type": "code",
   "execution_count": 4,
   "metadata": {},
   "outputs": [
    {
     "name": "stdout",
     "output_type": "stream",
     "text": [
      "0\n",
      "1\n",
      "2\n",
      "3\n",
      "4\n"
     ]
    }
   ],
   "source": [
    "for i in range(5):\n",
    "    print(i)"
   ]
  },
  {
   "cell_type": "code",
   "execution_count": 12,
   "metadata": {},
   "outputs": [
    {
     "name": "stdout",
     "output_type": "stream",
     "text": [
      "3\n"
     ]
    }
   ],
   "source": [
    "a = 2.55\n",
    "\n",
    "print(round(a))"
   ]
  },
  {
   "cell_type": "code",
   "execution_count": 8,
   "metadata": {},
   "outputs": [
    {
     "name": "stdout",
     "output_type": "stream",
     "text": [
      "ABCD\n",
      "BCD\n",
      "CD\n",
      "D\n"
     ]
    }
   ],
   "source": [
    "text = \"ABCD\"\n",
    "for i,j in enumerate(text):\n",
    "    print(text[i:])"
   ]
  },
  {
   "cell_type": "code",
   "execution_count": 19,
   "metadata": {},
   "outputs": [
    {
     "name": "stdout",
     "output_type": "stream",
     "text": [
      "810.2846845413956\n"
     ]
    }
   ],
   "source": [
    "from math import radians\n",
    "from math import pi\n",
    "\n",
    "\n",
    "ab_length = int(input())\n",
    "bc_length = int(input())\n",
    "\n",
    "ac_length = pow(pow(ab_length, 2)+pow(bc_length,2 ), 0.5)\n",
    "ac_degree = radians(ac_length) * 180 / pi\n",
    "print(ac_degree)"
   ]
  },
  {
   "cell_type": "code",
   "execution_count": null,
   "metadata": {},
   "outputs": [],
   "source": []
  }
 ],
 "metadata": {
  "kernelspec": {
   "display_name": "Python 3.9.7 ('base')",
   "language": "python",
   "name": "python3"
  },
  "language_info": {
   "codemirror_mode": {
    "name": "ipython",
    "version": 3
   },
   "file_extension": ".py",
   "mimetype": "text/x-python",
   "name": "python",
   "nbconvert_exporter": "python",
   "pygments_lexer": "ipython3",
   "version": "3.9.7"
  },
  "orig_nbformat": 4,
  "vscode": {
   "interpreter": {
    "hash": "0447405a7b4fdfd8763f5651dd0ee5f3f8c2786d8466401b60a0038170af48fb"
   }
  }
 },
 "nbformat": 4,
 "nbformat_minor": 2
}
